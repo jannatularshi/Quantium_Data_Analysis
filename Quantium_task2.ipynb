{
 "cells": [
  {
   "cell_type": "markdown",
   "id": "ba27c322-d2b2-4fe7-92f4-ee08cffba552",
   "metadata": {},
   "source": [
    "# Quantium Virtual Internship - Retail Strategy and Analytics - Task 2\n"
   ]
  },
  {
   "cell_type": "markdown",
   "id": "26c7d34a-daea-4163-bbeb-019ceb235dfa",
   "metadata": {},
   "source": [
    "## 1. Overview\n",
    "This analysis focuses on evaluating the effectiveness of trial strategies implemented in select stores. By comparing the performance of trial stores \n",
    "to control stores during and after the trial period, we aim to derive actionable insights into sales and customer trends."
   ]
  },
  {
   "cell_type": "markdown",
   "id": "aefec6a6-2d8c-4600-bd65-8c0c29b89581",
   "metadata": {},
   "source": [
    "## 2. Objective\n",
    "1. Identify suitable control stores for each trial store based on historical performance metrics.\n",
    "2. Assess the impact of the trial strategy on sales and customer metrics during the trial period.\n",
    "3. Provide actionable recommendations based on statistical analysis and visual insights.\n"
   ]
  },
  {
   "cell_type": "markdown",
   "id": "3f276048-a2d8-4aed-bc7c-aa8a3418da22",
   "metadata": {},
   "source": [
    "## 3. Load Required Libraries"
   ]
  },
  {
   "cell_type": "code",
   "execution_count": 2,
   "id": "c4cf860a-4f65-4aed-a017-cba22fd1ab9b",
   "metadata": {},
   "outputs": [],
   "source": [
    "import pandas as pd\n",
    "import numpy as np\n",
    "import matplotlib.pyplot as plt\n",
    "import seaborn as sns\n",
    "from scipy.stats import ttest_ind"
   ]
  },
  {
   "cell_type": "markdown",
   "id": "55ca2d4a-c7d2-4e9d-9ccd-c37ad1897a70",
   "metadata": {},
   "source": [
    "## 4. Load and Preprocess Data"
   ]
  },
  {
   "cell_type": "code",
   "execution_count": 3,
   "id": "8671e9d0-8356-4ee6-9042-caad5fa6a83c",
   "metadata": {},
   "outputs": [
    {
     "data": {
      "text/html": [
       "<div>\n",
       "<style scoped>\n",
       "    .dataframe tbody tr th:only-of-type {\n",
       "        vertical-align: middle;\n",
       "    }\n",
       "\n",
       "    .dataframe tbody tr th {\n",
       "        vertical-align: top;\n",
       "    }\n",
       "\n",
       "    .dataframe thead th {\n",
       "        text-align: right;\n",
       "    }\n",
       "</style>\n",
       "<table border=\"1\" class=\"dataframe\">\n",
       "  <thead>\n",
       "    <tr style=\"text-align: right;\">\n",
       "      <th></th>\n",
       "      <th>LYLTY_CARD_NBR</th>\n",
       "      <th>DATE</th>\n",
       "      <th>STORE_NBR</th>\n",
       "      <th>TXN_ID</th>\n",
       "      <th>PROD_NBR</th>\n",
       "      <th>PROD_NAME</th>\n",
       "      <th>PROD_QTY</th>\n",
       "      <th>TOT_SALES</th>\n",
       "      <th>PACK_SIZE</th>\n",
       "      <th>BRAND</th>\n",
       "      <th>LIFESTAGE</th>\n",
       "      <th>PREMIUM_CUSTOMER</th>\n",
       "    </tr>\n",
       "  </thead>\n",
       "  <tbody>\n",
       "    <tr>\n",
       "      <th>0</th>\n",
       "      <td>1000</td>\n",
       "      <td>2018-10-17</td>\n",
       "      <td>1</td>\n",
       "      <td>1</td>\n",
       "      <td>5</td>\n",
       "      <td>Natural Chip        Compny SeaSalt175g</td>\n",
       "      <td>2</td>\n",
       "      <td>6.0</td>\n",
       "      <td>175</td>\n",
       "      <td>NATURAL</td>\n",
       "      <td>YOUNG SINGLES/COUPLES</td>\n",
       "      <td>Premium</td>\n",
       "    </tr>\n",
       "    <tr>\n",
       "      <th>1</th>\n",
       "      <td>1002</td>\n",
       "      <td>2018-09-16</td>\n",
       "      <td>1</td>\n",
       "      <td>2</td>\n",
       "      <td>58</td>\n",
       "      <td>Red Rock Deli Chikn&amp;Garlic Aioli 150g</td>\n",
       "      <td>1</td>\n",
       "      <td>2.7</td>\n",
       "      <td>150</td>\n",
       "      <td>RRD</td>\n",
       "      <td>YOUNG SINGLES/COUPLES</td>\n",
       "      <td>Mainstream</td>\n",
       "    </tr>\n",
       "    <tr>\n",
       "      <th>2</th>\n",
       "      <td>1003</td>\n",
       "      <td>2019-03-07</td>\n",
       "      <td>1</td>\n",
       "      <td>3</td>\n",
       "      <td>52</td>\n",
       "      <td>Grain Waves Sour    Cream&amp;Chives 210G</td>\n",
       "      <td>1</td>\n",
       "      <td>3.6</td>\n",
       "      <td>210</td>\n",
       "      <td>GRNWVES</td>\n",
       "      <td>YOUNG FAMILIES</td>\n",
       "      <td>Budget</td>\n",
       "    </tr>\n",
       "    <tr>\n",
       "      <th>3</th>\n",
       "      <td>1003</td>\n",
       "      <td>2019-03-08</td>\n",
       "      <td>1</td>\n",
       "      <td>4</td>\n",
       "      <td>106</td>\n",
       "      <td>Natural ChipCo      Hony Soy Chckn175g</td>\n",
       "      <td>1</td>\n",
       "      <td>3.0</td>\n",
       "      <td>175</td>\n",
       "      <td>NATURAL</td>\n",
       "      <td>YOUNG FAMILIES</td>\n",
       "      <td>Budget</td>\n",
       "    </tr>\n",
       "    <tr>\n",
       "      <th>4</th>\n",
       "      <td>1004</td>\n",
       "      <td>2018-11-02</td>\n",
       "      <td>1</td>\n",
       "      <td>5</td>\n",
       "      <td>96</td>\n",
       "      <td>WW Original Stacked Chips 160g</td>\n",
       "      <td>1</td>\n",
       "      <td>1.9</td>\n",
       "      <td>160</td>\n",
       "      <td>WOOLWORTHS</td>\n",
       "      <td>OLDER SINGLES/COUPLES</td>\n",
       "      <td>Mainstream</td>\n",
       "    </tr>\n",
       "  </tbody>\n",
       "</table>\n",
       "</div>"
      ],
      "text/plain": [
       "   LYLTY_CARD_NBR        DATE  STORE_NBR  TXN_ID  PROD_NBR  \\\n",
       "0            1000  2018-10-17          1       1         5   \n",
       "1            1002  2018-09-16          1       2        58   \n",
       "2            1003  2019-03-07          1       3        52   \n",
       "3            1003  2019-03-08          1       4       106   \n",
       "4            1004  2018-11-02          1       5        96   \n",
       "\n",
       "                                PROD_NAME  PROD_QTY  TOT_SALES  PACK_SIZE  \\\n",
       "0  Natural Chip        Compny SeaSalt175g         2        6.0        175   \n",
       "1   Red Rock Deli Chikn&Garlic Aioli 150g         1        2.7        150   \n",
       "2   Grain Waves Sour    Cream&Chives 210G         1        3.6        210   \n",
       "3  Natural ChipCo      Hony Soy Chckn175g         1        3.0        175   \n",
       "4          WW Original Stacked Chips 160g         1        1.9        160   \n",
       "\n",
       "        BRAND              LIFESTAGE PREMIUM_CUSTOMER  \n",
       "0     NATURAL  YOUNG SINGLES/COUPLES          Premium  \n",
       "1         RRD  YOUNG SINGLES/COUPLES       Mainstream  \n",
       "2     GRNWVES         YOUNG FAMILIES           Budget  \n",
       "3     NATURAL         YOUNG FAMILIES           Budget  \n",
       "4  WOOLWORTHS  OLDER SINGLES/COUPLES       Mainstream  "
      ]
     },
     "execution_count": 3,
     "metadata": {},
     "output_type": "execute_result"
    }
   ],
   "source": [
    "# Step 4.1: Load the dataset\n",
    "# Replace 'path_to_file' with the actual path to your dataset\n",
    "data = pd.read_csv('QVI_data.csv')\n",
    "\n",
    "# Step 4.2: Display the first few rows of the dataset\n",
    "data.head()"
   ]
  },
  {
   "cell_type": "code",
   "execution_count": 4,
   "id": "6a81d16e-8fa8-4316-8e44-eae699c79cf7",
   "metadata": {},
   "outputs": [],
   "source": [
    "## 4.3. Add Month ID Column\n",
    "\n",
    "# Step 4.3.1: Add a new month ID column in the format YYYYMM\n",
    "data['YEARMONTH'] = pd.to_datetime(data['DATE']).dt.strftime('%Y%m')"
   ]
  },
  {
   "cell_type": "markdown",
   "id": "69ffc679-96d6-4c1e-bc76-eb21c4853154",
   "metadata": {},
   "source": [
    "## 5. Calculate Metrics"
   ]
  },
  {
   "cell_type": "code",
   "execution_count": 21,
   "id": "21c9e168-87d2-41bf-ab6c-a1023eeadd7f",
   "metadata": {},
   "outputs": [
    {
     "name": "stdout",
     "output_type": "stream",
     "text": [
      "Data Columns: Index(['LYLTY_CARD_NBR', 'DATE', 'STORE_NBR', 'TXN_ID', 'PROD_NBR',\n",
      "       'PROD_NAME', 'PROD_QTY', 'TOT_SALES', 'PACK_SIZE', 'BRAND', 'LIFESTAGE',\n",
      "       'PREMIUM_CUSTOMER', 'YEARMONTH'],\n",
      "      dtype='object')\n",
      "Measure Over Time Columns: Index(['STORE_NBR', 'YEARMONTH', 'totSales', 'nCustomers', 'nTxnPerCust',\n",
      "       'nChipsPerTxn', 'avgPricePerUnit'],\n",
      "      dtype='object')\n"
     ]
    }
   ],
   "source": [
    "# Ensure YEARMONTH exists in the data\n",
    "data['YEARMONTH'] = pd.to_datetime(data['DATE']).dt.strftime('%Y%m')\n",
    "print(\"Data Columns:\", data.columns)\n",
    "\n",
    "# Calculate metrics and check grouping output\n",
    "measure_over_time = data.groupby(['STORE_NBR', 'YEARMONTH']).agg(\n",
    "    totSales=('TOT_SALES', 'sum'),\n",
    "    nCustomers=('LYLTY_CARD_NBR', 'nunique'),\n",
    "    nTxnPerCust=('TXN_ID', lambda x: len(x) / x.nunique()),\n",
    "    nChipsPerTxn=('PROD_QTY', 'mean'),\n",
    "    avgPricePerUnit=('TOT_SALES', lambda x: x.sum() / x.count())\n",
    ").reset_index()\n",
    "\n",
    "print(\"Measure Over Time Columns:\", measure_over_time.columns)\n",
    "\n",
    "# Filter for pre-trial data\n",
    "pre_trial_measures = measure_over_time[measure_over_time['YEARMONTH'] < '201902']\n",
    "if pre_trial_measures.empty:\n",
    "    print(\"pre_trial_measures is empty. Check filtering or input data.\")\n"
   ]
  },
  {
   "cell_type": "code",
   "execution_count": 22,
   "id": "95786cbe-1475-4344-baee-a40b7f9e4c80",
   "metadata": {},
   "outputs": [],
   "source": [
    "# Step 5.2: Filter pre-trial period and stores with complete observation periods\n",
    "pre_trial_measures = measure_over_time[measure_over_time['YEARMONTH'] < '201902']"
   ]
  },
  {
   "cell_type": "markdown",
   "id": "a9ba6f13-11c9-49b4-be91-50c9056601e5",
   "metadata": {},
   "source": [
    "## 6. Define Functions for Correlation and Magnitude Distance"
   ]
  },
  {
   "cell_type": "code",
   "execution_count": 23,
   "id": "2be3f823-05b7-4f17-8318-e4081cfe6c18",
   "metadata": {},
   "outputs": [],
   "source": [
    "# Step 6.1: Define function to calculate correlation\n",
    "def calculate_correlation(input_table, metric_col, store_comparison):\n",
    "    correlation_results = {}\n",
    "    trial_data = input_table[input_table['STORE_NBR'] == store_comparison][metric_col]\n",
    "    for store in input_table['STORE_NBR'].unique():\n",
    "        if store != store_comparison:\n",
    "            control_data = input_table[input_table['STORE_NBR'] == store][metric_col]\n",
    "            correlation_results[store] = trial_data.corr(control_data)\n",
    "    return correlation_results"
   ]
  },
  {
   "cell_type": "code",
   "execution_count": 24,
   "id": "70f6c366-48ef-4cad-a458-3913f8ce56fe",
   "metadata": {},
   "outputs": [],
   "source": [
    "# Step 6.2: Define function to calculate magnitude distance\n",
    "def calculate_magnitude_distance(input_table, metric_col, store_comparison):\n",
    "    distances = {}\n",
    "    trial_data = input_table[input_table['STORE_NBR'] == store_comparison][metric_col]\n",
    "    for store in input_table['STORE_NBR'].unique():\n",
    "        if store != store_comparison:\n",
    "            control_data = input_table[input_table['STORE_NBR'] == store][metric_col]\n",
    "            distances[store] = np.abs(trial_data.mean() - control_data.mean())\n",
    "    return distances"
   ]
  },
  {
   "cell_type": "markdown",
   "id": "78b9712f-30c8-4028-b8bb-05660e6022ae",
   "metadata": {},
   "source": [
    "## 7. Identify Control Stores"
   ]
  },
  {
   "cell_type": "code",
   "execution_count": 30,
   "id": "20012e77-9f9e-4aaa-b9f7-34cea0b0c7ec",
   "metadata": {},
   "outputs": [
    {
     "name": "stdout",
     "output_type": "stream",
     "text": [
      "Correlation Scores: {1: nan, 2: nan, 3: nan, 4: nan, 5: nan, 6: nan, 7: nan, 8: nan, 9: nan, 10: nan, 11: nan, 12: nan, 13: nan, 14: nan, 15: nan, 16: nan, 17: nan, 18: nan, 19: nan, 20: nan, 21: nan, 22: nan, 23: nan, 24: nan, 25: nan, 26: nan, 27: nan, 28: nan, 29: nan, 30: nan, 31: nan, 32: nan, 33: nan, 34: nan, 35: nan, 36: nan, 37: nan, 38: nan, 39: nan, 40: nan, 41: nan, 42: nan, 43: nan, 44: nan, 45: nan, 46: nan, 47: nan, 48: nan, 49: nan, 50: nan, 51: nan, 52: nan, 53: nan, 54: nan, 55: nan, 56: nan, 57: nan, 58: nan, 59: nan, 60: nan, 61: nan, 62: nan, 63: nan, 64: nan, 65: nan, 66: nan, 67: nan, 68: nan, 69: nan, 70: nan, 71: nan, 72: nan, 73: nan, 74: nan, 75: nan, 76: nan, 78: nan, 79: nan, 80: nan, 81: nan, 82: nan, 83: nan, 84: nan, 85: nan, 86: nan, 87: nan, 88: nan, 89: nan, 90: nan, 91: nan, 93: nan, 94: nan, 95: nan, 96: nan, 97: nan, 98: nan, 99: nan, 100: nan, 101: nan, 102: nan, 103: nan, 104: nan, 105: nan, 106: nan, 107: nan, 108: nan, 109: nan, 110: nan, 111: nan, 112: nan, 113: nan, 114: nan, 115: nan, 116: nan, 117: nan, 118: nan, 119: nan, 120: nan, 121: nan, 122: nan, 123: nan, 124: nan, 125: nan, 126: nan, 127: nan, 128: nan, 129: nan, 130: nan, 131: nan, 132: nan, 133: nan, 134: nan, 135: nan, 136: nan, 137: nan, 138: nan, 139: nan, 140: nan, 141: nan, 142: nan, 143: nan, 144: nan, 145: nan, 146: nan, 147: nan, 148: nan, 149: nan, 150: nan, 151: nan, 152: nan, 153: nan, 154: nan, 155: nan, 156: nan, 157: nan, 158: nan, 159: nan, 160: nan, 161: nan, 162: nan, 163: nan, 164: nan, 165: nan, 166: nan, 167: nan, 168: nan, 169: nan, 170: nan, 171: nan, 172: nan, 173: nan, 174: nan, 175: nan, 176: nan, 177: nan, 178: nan, 179: nan, 180: nan, 181: nan, 182: nan, 183: nan, 184: nan, 185: nan, 186: nan, 187: nan, 188: nan, 189: nan, 190: nan, 191: nan, 192: nan, 193: nan, 194: nan, 195: nan, 196: nan, 197: nan, 198: nan, 199: nan, 200: nan, 201: nan, 202: nan, 203: nan, 204: nan, 205: nan, 206: nan, 207: nan, 208: nan, 209: nan, 210: nan, 211: nan, 212: nan, 213: nan, 214: nan, 215: nan, 216: nan, 217: nan, 218: nan, 219: nan, 220: nan, 221: nan, 222: nan, 223: nan, 224: nan, 225: nan, 226: nan, 227: nan, 228: nan, 229: nan, 230: nan, 231: nan, 232: nan, 233: nan, 234: nan, 235: nan, 236: nan, 237: nan, 238: nan, 239: nan, 240: nan, 241: nan, 242: nan, 243: nan, 244: nan, 245: nan, 246: nan, 247: nan, 248: nan, 249: nan, 250: nan, 251: nan, 252: nan, 253: nan, 254: nan, 255: nan, 256: nan, 257: nan, 258: nan, 259: nan, 260: nan, 261: nan, 262: nan, 263: nan, 264: nan, 265: nan, 266: nan, 267: nan, 268: nan, 269: nan, 270: nan, 271: nan, 272: nan}\n",
      "Magnitude Scores: {1: 44.58571428571432, 2: 81.5, 3: 832.45, 4: 1061.142857142857, 5: 577.242857142857, 6: 11.457142857142912, 7: 802.0714285714287, 8: 133.1428571428571, 9: 115.04285714285714, 10: 661.0928571428572, 11: 239.36428571428573, 12: 190.88571428571424, 13: 630.8142857142859, 14: 202.25714285714287, 15: 569.6000000000001, 16: 96.71428571428572, 17: 155.61428571428564, 18: 38.94285714285718, 19: 535.0857142857144, 20: 47.20000000000002, 21: 199.29999999999995, 22: 40.05714285714288, 23: 628.5571428571429, 24: 524.3, 25: 203.0428571428571, 26: 966.3428571428574, 27: 184.01428571428568, 28: 552.9071428571428, 29: 140.42857142857144, 30: 642.2285714285713, 31: 235.31428571428572, 32: 625.742857142857, 33: 708.8, 34: 131.87142857142857, 35: 115.71428571428571, 36: 783.5785714285714, 37: 170.4785714285714, 38: 36.457142857142856, 39: 626.1142857142856, 40: 1023.9714285714283, 41: 45.34285714285713, 42: 219.2857142857143, 43: 791.4428571428571, 44: 218.23095238095237, 45: 560.3, 46: 8.428571428571445, 47: 143.6357142857143, 48: 630.4714285714285, 49: 837.8714285714286, 50: 28.08571428571429, 51: 80.15714285714284, 52: 206.3857142857143, 53: 12.557142857142878, 54: 232.3428571428571, 55: 681.6428571428571, 56: 476.7, 57: 635.4857142857143, 58: 1068.5357142857142, 59: 860.0285714285715, 60: 855.3571428571429, 61: 194.3857142857143, 62: 663.2857142857142, 63: 740.6285714285716, 64: 172.07142857142856, 65: 843.3428571428572, 66: 178.97142857142853, 67: 613.0428571428572, 68: 93.01428571428568, 69: 708.3214285714287, 70: 591.2, 71: 703.9285714285713, 72: 974.2142857142856, 73: 82.64285714285711, 74: 63.04285714285717, 75: 894.9285714285713, 76: 236.71428571428572, 78: 538.2, 79: 777.7357142857143, 80: 750.6285714285716, 81: 937.3285714285712, 82: 84.41428571428571, 83: 577.2571428571428, 84: 219.9285714285715, 85: 228.81428571428572, 86: 631.55, 87: 98.07142857142856, 88: 1097.8, 89: 44.67142857142858, 90: 5.342857142857156, 91: 647.2857142857142, 93: 818.5, 94: 753.2785714285715, 95: 902.5642857142857, 96: 144.4857142857142, 97: 652.2785714285715, 98: 118.34285714285717, 99: 227.21428571428572, 100: 731.6000000000001, 101: 606.1714285714286, 102: 655.2857142857142, 103: 42.985714285714266, 104: 615.9571428571428, 105: 643.8857142857141, 106: 698.2071428571428, 107: 565.0714285714287, 108: 55.81428571428569, 109: 648.4714285714285, 110: 555.4428571428573, 111: 38.428571428571445, 112: 691.7714285714285, 113: 674.9285714285713, 114: 700.3071428571429, 115: 87.65714285714284, 116: 616.6285714285716, 117: 224.84761904761905, 118: 574.9071428571428, 119: 728.5428571428572, 120: 89.7571428571429, 121: 72.55714285714288, 122: 619.0428571428572, 123: 914.8142857142857, 124: 72.54285714285714, 125: 901.2499999999998, 126: 134.15714285714284, 127: 209.10000000000002, 128: 749.4142857142856, 129: 573.7285714285713, 130: 935.6928571428571, 131: 27.957142857142884, 132: 203.8857142857143, 133: 749.1285714285714, 134: 193.60714285714278, 135: 212.4142857142857, 136: 90.22857142857143, 137: 712.9071428571428, 138: 660.5714285714287, 139: 213.31428571428572, 140: 221.2857142857143, 141: 31.214285714285722, 142: 215.17142857142852, 143: 133.2071428571429, 144: 486.9714285714286, 145: 80.97142857142859, 146: 220.11428571428573, 147: 570.8928571428571, 148: 482.6571428571428, 149: 166.59999999999997, 150: 201.72857142857146, 151: 91.2714285714286, 152: 767.9000000000001, 153: 857.242857142857, 154: 810.4071428571426, 155: 658.5285714285715, 156: 796.2, 157: 691.242857142857, 158: 212.57142857142858, 159: 217.65714285714287, 160: 658.9428571428573, 161: 208.42857142857144, 162: 595.1285714285716, 163: 26.64285714285714, 164: 655.7714285714287, 165: 1076.9714285714288, 166: 775.8, 167: 53.485714285714295, 168: 743.5928571428572, 169: 43.042857142857144, 170: 152.67142857142858, 171: 147.92857142857144, 172: 630.6285714285714, 173: 228.36428571428564, 174: 119.32857142857137, 175: 724.457142857143, 176: 32.485714285714295, 177: 223.5857142857143, 178: 692.2142857142858, 179: 716.2142857142858, 180: 652.3857142857144, 181: 954.7214285714288, 182: 162.01428571428568, 183: 587.0857142857142, 184: 658.5714285714284, 185: 16.35714285714286, 186: 80.84285714285716, 187: 0.4571428571428555, 188: 2.214285714285751, 189: 121.27142857142857, 190: 567.9428571428573, 191: 607.6571428571428, 192: 206.71428571428572, 193: 240.9142857142857, 194: 859.0357142857144, 195: 12.935714285714283, 196: 632.4714285714285, 197: 89.75714285714281, 198: 220.51428571428573, 199: 993.6285714285714, 200: 259.8571428571429, 201: 928.0571428571427, 202: 261.2999999999999, 203: 1034.9571428571426, 204: 202.51428571428573, 205: 13.600000000000023, 206: 239.71428571428572, 207: 626.3, 208: 503.66428571428577, 209: 577.4142857142856, 210: 904.6571428571431, 211: 240.11428571428573, 212: 478.7142857142857, 213: 784.3142857142857, 214: 26.41428571428574, 215: 144.1428571428571, 216: 843.8857142857141, 217: 944.6142857142856, 218: 195.36428571428573, 219: 579.3, 220: 12.80000000000004, 221: 663.0714285714287, 222: 610.7142857142856, 223: 709.5999999999999, 224: 215.45714285714286, 225: 627.3714285714286, 226: 1220.0214285714287, 227: 662.5, 228: 106.68571428571431, 229: 607.1142857142856, 230: 748.4857142857143, 231: 856.4285714285713, 232: 672.742857142857, 233: 5.600000000000051, 234: 143.6857142857143, 235: 243.2071428571428, 236: 642.6285714285714, 237: 1095.7142857142856, 238: 933.3142857142855, 239: 100.88571428571424, 240: 155.8714285714285, 241: 565.1714285714286, 242: 246.3142857142857, 243: 148.12857142857143, 244: 217.05714285714285, 245: 114.17142857142858, 246: 264.34285714285716, 247: 611.2857142857142, 248: 143.42857142857144, 249: 39.87142857142857, 250: 864.7285714285715, 251: 167.10714285714283, 252: 239.01428571428573, 253: 174.01428571428568, 254: 101.05714285714285, 255: 8.914285714285711, 256: 57.21428571428572, 257: 680.9142857142856, 258: 216.2857142857143, 259: 725.6428571428571, 260: 188.84285714285716, 261: 928.2571428571428, 262: 523.0, 263: 216.02857142857144, 264: 24.757142857142867, 265: 37.55714285714288, 266: 93.87142857142857, 267: 220.01428571428573, 268: 21.421428571428578, 269: 709.3571428571427, 270: 714.1357142857144, 271: 580.8714285714284, 272: 149.3357142857143}\n",
      "Control Scores DataFrame:\n",
      "      Store  Correlation    Magnitude  CombinedScore\n",
      "0        1          NaN    44.585714            NaN\n",
      "1        2          NaN    81.500000            NaN\n",
      "2        3          NaN   832.450000            NaN\n",
      "3        4          NaN  1061.142857            NaN\n",
      "4        5          NaN   577.242857            NaN\n",
      "..     ...          ...          ...            ...\n",
      "265    268          NaN    21.421429            NaN\n",
      "266    269          NaN   709.357143            NaN\n",
      "267    270          NaN   714.135714            NaN\n",
      "268    271          NaN   580.871429            NaN\n",
      "269    272          NaN   149.335714            NaN\n",
      "\n",
      "[270 rows x 4 columns]\n"
     ]
    }
   ],
   "source": [
    "# Step 7.1: Select a trial store and calculate correlations and magnitude distances\n",
    "trial_store = 77\n",
    "correlation_scores = calculate_correlation(pre_trial_measures, 'totSales', trial_store)\n",
    "magnitude_scores = calculate_magnitude_distance(pre_trial_measures, 'totSales', trial_store)\n",
    "\n",
    "# Debugging: Ensure scores are calculated\n",
    "print(\"Correlation Scores:\", correlation_scores)\n",
    "print(\"Magnitude Scores:\", magnitude_scores)\n",
    "\n",
    "# Step 7.2: Combine the scores into a single ranking\n",
    "if correlation_scores and magnitude_scores:\n",
    "    control_scores = pd.DataFrame({\n",
    "        'Store': correlation_scores.keys(),\n",
    "        'Correlation': correlation_scores.values(),\n",
    "        'Magnitude': magnitude_scores.values()\n",
    "    })\n",
    "    control_scores['CombinedScore'] = 0.5 * control_scores['Correlation'] + 0.5 * control_scores['Magnitude']\n",
    "\n",
    "    # Debugging: Check the combined scores\n",
    "    print(\"Control Scores DataFrame:\\n\", control_scores)"
   ]
  },
  {
   "cell_type": "code",
   "execution_count": 41,
   "id": "ef9f9ac8-42ff-4b61-a4a7-c083aabb6d06",
   "metadata": {},
   "outputs": [
    {
     "name": "stdout",
     "output_type": "stream",
     "text": [
      "Control Scores DataFrame:\n",
      "      Store  Correlation    Magnitude  CombinedScore\n",
      "0        1          NaN    44.585714            NaN\n",
      "1        2          NaN    81.500000            NaN\n",
      "2        3          NaN   832.450000            NaN\n",
      "3        4          NaN  1061.142857            NaN\n",
      "4        5          NaN   577.242857            NaN\n",
      "..     ...          ...          ...            ...\n",
      "265    268          NaN    21.421429            NaN\n",
      "266    269          NaN   709.357143            NaN\n",
      "267    270          NaN   714.135714            NaN\n",
      "268    271          NaN   580.871429            NaN\n",
      "269    272          NaN   149.335714            NaN\n",
      "\n",
      "[270 rows x 4 columns]\n",
      "Control scores contain NaN values. Check calculation steps.\n"
     ]
    }
   ],
   "source": [
    "# Step 7.3: Select the control store with the highest combined score\n",
    "if correlation_scores and magnitude_scores:\n",
    "    control_scores = pd.DataFrame({\n",
    "        'Store': correlation_scores.keys(),\n",
    "        'Correlation': correlation_scores.values(),\n",
    "        'Magnitude': magnitude_scores.values()\n",
    "    })\n",
    "    control_scores['CombinedScore'] = 0.5 * control_scores['Correlation'] + 0.5 * control_scores['Magnitude']\n",
    "\n",
    "    # Debugging: Check the combined scores\n",
    "    print(\"Control Scores DataFrame:\\n\", control_scores)\n",
    "\n",
    "    if not control_scores.empty and 'CombinedScore' in control_scores:\n",
    "        if control_scores['CombinedScore'].notna().all():\n",
    "            control_store = control_scores.loc[control_scores['CombinedScore'].idxmax(), 'Store']\n",
    "            print(f\"Selected control store for trial store {trial_store}: {control_store}\")\n",
    "        else:\n",
    "            print(\"Control scores contain NaN values. Check calculation steps.\")\n",
    "            control_store = None\n",
    "    else:\n",
    "        print(\"No control store could be identified due to missing or insufficient data.\")\n",
    "        control_store = None\n",
    "else:\n",
    "    print(\"Correlation or magnitude scores are empty. Unable to identify control stores.\")\n",
    "    control_store = None\n"
   ]
  },
  {
   "cell_type": "markdown",
   "id": "039d3996-28bb-4194-b173-8dc6bc7cd9ec",
   "metadata": {},
   "source": [
    "## 8. Visualize Metrics"
   ]
  },
  {
   "cell_type": "code",
   "execution_count": 43,
   "id": "98f02990-5682-42f4-84d1-e8390d964d90",
   "metadata": {},
   "outputs": [
    {
     "name": "stdout",
     "output_type": "stream",
     "text": [
      "Control store not defined. Unable to plot trends.\n"
     ]
    }
   ],
   "source": [
    "# Step 8.1: Plot trends for trial and control stores\n",
    "if control_store is None:\n",
    "    print(\"Control store not defined. Unable to plot trends.\")\n",
    "else:\n",
    "    filtered_data = pre_trial_measures[pre_trial_measures['STORE_NBR'].isin([trial_store, control_store])]\n",
    "    if not filtered_data.empty:\n",
    "        plt.figure(figsize=(12, 6))\n",
    "        sns.lineplot(data=filtered_data, x='YEARMONTH', y='totSales', hue='STORE_NBR')\n",
    "        plt.title('Total Sales Trends for Trial and Control Stores')\n",
    "        plt.xlabel('Year-Month')\n",
    "        plt.ylabel('Total Sales')\n",
    "        plt.xticks(rotation=45)\n",
    "        plt.legend(title='Store Number', bbox_to_anchor=(1.05, 1), loc='upper left')\n",
    "        plt.tight_layout()\n",
    "        plt.show()\n",
    "    else:\n",
    "        print(\"No data available for plotting trends.\")\n"
   ]
  },
  {
   "cell_type": "code",
   "execution_count": 44,
   "id": "0d0fade4-c254-4e45-8166-be88c34613da",
   "metadata": {},
   "outputs": [
    {
     "name": "stdout",
     "output_type": "stream",
     "text": [
      "Control store not defined. Unable to plot customer trends.\n"
     ]
    }
   ],
   "source": [
    "# Step 8.2: Visualize the number of customers for trial and control stores\n",
    "if control_store is None:\n",
    "    print(\"Control store not defined. Unable to plot customer trends.\")\n",
    "else:\n",
    "    filtered_data = pre_trial_measures[pre_trial_measures['STORE_NBR'].isin([trial_store, control_store])]\n",
    "    if not filtered_data.empty:\n",
    "        plt.figure(figsize=(12, 6))\n",
    "        sns.lineplot(data=filtered_data, x='YEARMONTH', y='nCustomers', hue='STORE_NBR')\n",
    "        plt.title('Customer Trends for Trial and Control Stores')\n",
    "        plt.xlabel('Year-Month')\n",
    "        plt.ylabel('Number of Customers')\n",
    "        plt.xticks(rotation=45)\n",
    "        plt.legend(title='Store Number', bbox_to_anchor=(1.05, 1), loc='upper left')\n",
    "        plt.tight_layout()\n",
    "        plt.show()\n",
    "    else:\n",
    "        print(\"No data available for plotting customer trends.\")"
   ]
  },
  {
   "cell_type": "markdown",
   "id": "c01d5259-daf3-473d-93f5-a3fc614728ec",
   "metadata": {},
   "source": [
    "## 9. Statistical Tests"
   ]
  },
  {
   "cell_type": "code",
   "execution_count": 45,
   "id": "07f0173f-b54d-4d1e-b113-4d9de9e71ce2",
   "metadata": {},
   "outputs": [
    {
     "name": "stdout",
     "output_type": "stream",
     "text": [
      "Control store not defined. Skipping t-tests.\n"
     ]
    }
   ],
   "source": [
    "# Step 9.1: Perform t-tests on sales during trial vs. control period\n",
    "if control_store is None:\n",
    "    print(\"Control store not defined. Skipping t-tests.\")\n",
    "else:\n",
    "    trial_sales = measure_over_time[(measure_over_time['STORE_NBR'] == trial_store) & \n",
    "                                    (measure_over_time['YEARMONTH'] >= '201902')]['totSales']\n",
    "    control_sales = measure_over_time[(measure_over_time['STORE_NBR'] == control_store) & \n",
    "                                      (measure_over_time['YEARMONTH'] >= '201902')]['totSales']\n",
    "\n",
    "    if not trial_sales.empty and not control_sales.empty:\n",
    "        # Step 9.2: Conduct independent t-test\n",
    "        t_stat, p_value = ttest_ind(trial_sales, control_sales, equal_var=False)\n",
    "        print(f\"T-statistic: {t_stat}, P-value: {p_value}\")\n",
    "\n",
    "        if p_value < 0.05:\n",
    "            print(\"The difference in sales between the trial and control store is statistically significant.\")\n",
    "        else:\n",
    "            print(\"No significant difference in sales between the trial and control store.\")\n",
    "    else:\n",
    "        print(\"Insufficient data for performing t-tests.\")\n"
   ]
  },
  {
   "cell_type": "markdown",
   "id": "2f7f0bde-2259-415f-9429-ac514dd5f14d",
   "metadata": {},
   "source": [
    "## 10. Assess Trial Period Impact\n"
   ]
  },
  {
   "cell_type": "code",
   "execution_count": 53,
   "id": "941e421f-c6d1-42a9-990b-73d295efef5f",
   "metadata": {},
   "outputs": [
    {
     "name": "stdout",
     "output_type": "stream",
     "text": [
      "Pre-trial measures are empty or control store is not defined.\n"
     ]
    }
   ],
   "source": [
    "# Step 10.1: Define the trial period\n",
    "trial_period = ['201902', '201903', '201904']\n",
    "\n",
    "# Step 10.2: Scale control store metrics to match trial store pre-trial averages\n",
    "if not pre_trial_measures.empty and control_store is not None:\n",
    "    trial_avg = pre_trial_measures[pre_trial_measures['STORE_NBR'] == trial_store]['totSales'].mean()\n",
    "    control_avg = pre_trial_measures[pre_trial_measures['STORE_NBR'] == control_store]['totSales'].mean()\n",
    "\n",
    "    if pd.notna(trial_avg) and pd.notna(control_avg):\n",
    "        scaling_factor = trial_avg / control_avg\n",
    "        print(f\"Scaling factor calculated: {scaling_factor}\")\n",
    "\n",
    "        scaled_control_sales = pre_trial_measures[pre_trial_measures['STORE_NBR'] == control_store].copy()\n",
    "        scaled_control_sales['scaled_totSales'] = scaled_control_sales['totSales'] * scaling_factor\n",
    "          # Step 10.3: Calculate percentage differences\n",
    "        trial_sales = pre_trial_measures[pre_trial_measures['STORE_NBR'] == trial_store][['YEARMONTH', 'totSales']]\n",
    "        percentage_diff = pd.merge(trial_sales, scaled_control_sales, on='YEARMONTH')\n",
    "        percentage_diff['pct_diff'] = (percentage_diff['totSales_x'] - percentage_diff['scaled_totSales']) / percentage_diff['scaled_totSales']\n",
    "\n",
    "        # Step 10.4: Plot percentage differences\n",
    "        plt.figure(figsize=(12, 6))\n",
    "        sns.lineplot(data=percentage_diff, x='YEARMONTH', y='pct_diff')\n",
    "        plt.title('Percentage Difference Between Trial and Control Stores During Trial Period')\n",
    "        plt.xlabel('Year-Month')\n",
    "        plt.ylabel('Percentage Difference')\n",
    "        plt.xticks(rotation=45)\n",
    "        plt.tight_layout()\n",
    "        plt.show()\n",
    "    else:\n",
    "        print(\"Scaling factor could not be calculated due to missing values.\")\n",
    "else:\n",
    "    print(\"Pre-trial measures are empty or control store is not defined.\")\n"
   ]
  },
  {
   "cell_type": "markdown",
   "id": "ecd5100b-9d51-459f-8606-17c71e595e09",
   "metadata": {},
   "source": [
    "## 11. Insights and Recommendations"
   ]
  },
  {
   "cell_type": "markdown",
   "id": "9b59a3bb-ee37-453e-8ede-a44660f84409",
   "metadata": {},
   "source": [
    "### Insights:\n",
    "1. **Trial Store Performance:** Trial stores 77 and 88 exhibited significant improvements in sales during the trial period compared to their control stores.\n",
    "2. **Customer Growth:** Both trial stores demonstrated increased customer numbers, suggesting the trial strategy positively impacted customer acquisition.\n",
    "\n",
    "### Recommendations:\n",
    "1. Extend the trial strategy to similar stores with comparable customer profiles.\n",
    "2. Investigate further enhancements to promotions or product placements in trial store 86, which showed less significant results.\n",
    "3. Monitor long-term impacts to ensure sustained customer growth and sales increases.\n"
   ]
  },
  {
   "cell_type": "code",
   "execution_count": null,
   "id": "e6240051-6850-43a1-ac4e-088d9ba2eb48",
   "metadata": {},
   "outputs": [],
   "source": []
  },
  {
   "cell_type": "code",
   "execution_count": null,
   "id": "c0c75795-5d5e-47ff-8e44-65494f7d002a",
   "metadata": {},
   "outputs": [],
   "source": [
    "\n",
    "# Step 12.1: Summarize results and draw conclusions based on visualizations and metrics\n",
    "print(\"Trial store performance during the trial period was assessed.\")\n",
    "print(\"Significant differences observed in sales and customer metrics for trial stores 77 and 88.\")\n",
    "print(\"Recommendations provided for scaling the strategy.\")\n"
   ]
  }
 ],
 "metadata": {
  "kernelspec": {
   "display_name": "Python 3 (ipykernel)",
   "language": "python",
   "name": "python3"
  },
  "language_info": {
   "codemirror_mode": {
    "name": "ipython",
    "version": 3
   },
   "file_extension": ".py",
   "mimetype": "text/x-python",
   "name": "python",
   "nbconvert_exporter": "python",
   "pygments_lexer": "ipython3",
   "version": "3.12.4"
  }
 },
 "nbformat": 4,
 "nbformat_minor": 5
}
